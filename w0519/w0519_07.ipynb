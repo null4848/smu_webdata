{
 "cells": [
  {
   "cell_type": "code",
   "execution_count": 35,
   "id": "cc5ffc61",
   "metadata": {},
   "outputs": [
    {
     "name": "stderr",
     "output_type": "stream",
     "text": [
      "c:\\python3\\Lib\\site-packages\\openpyxl\\styles\\stylesheet.py:237: UserWarning: Workbook contains no default style, apply openpyxl's default\n",
      "  warn(\"Workbook contains no default style, apply openpyxl's default\")\n"
     ]
    },
    {
     "data": {
      "text/html": [
       "<div>\n",
       "<style scoped>\n",
       "    .dataframe tbody tr th:only-of-type {\n",
       "        vertical-align: middle;\n",
       "    }\n",
       "\n",
       "    .dataframe tbody tr th {\n",
       "        vertical-align: top;\n",
       "    }\n",
       "\n",
       "    .dataframe thead th {\n",
       "        text-align: right;\n",
       "    }\n",
       "</style>\n",
       "<table border=\"1\" class=\"dataframe\">\n",
       "  <thead>\n",
       "    <tr style=\"text-align: right;\">\n",
       "      <th></th>\n",
       "      <th>0~9세.2</th>\n",
       "      <th>10~19세.2</th>\n",
       "      <th>20~29세.2</th>\n",
       "      <th>30~39세.2</th>\n",
       "      <th>40~49세.2</th>\n",
       "      <th>50~59세.2</th>\n",
       "      <th>60~69세.2</th>\n",
       "      <th>70~79세.2</th>\n",
       "      <th>80~89세.2</th>\n",
       "      <th>90~99세.2</th>\n",
       "      <th>100세 이상.2</th>\n",
       "    </tr>\n",
       "    <tr>\n",
       "      <th>행정기관</th>\n",
       "      <th></th>\n",
       "      <th></th>\n",
       "      <th></th>\n",
       "      <th></th>\n",
       "      <th></th>\n",
       "      <th></th>\n",
       "      <th></th>\n",
       "      <th></th>\n",
       "      <th></th>\n",
       "      <th></th>\n",
       "      <th></th>\n",
       "    </tr>\n",
       "  </thead>\n",
       "  <tbody>\n",
       "    <tr>\n",
       "      <th>전국</th>\n",
       "      <td>1,531,058</td>\n",
       "      <td>2,245,507</td>\n",
       "      <td>2,855,132</td>\n",
       "      <td>3,166,585</td>\n",
       "      <td>3,796,703</td>\n",
       "      <td>4,315,099</td>\n",
       "      <td>3,968,224</td>\n",
       "      <td>2,254,795</td>\n",
       "      <td>1,326,374</td>\n",
       "      <td>252,368</td>\n",
       "      <td>7,052</td>\n",
       "    </tr>\n",
       "  </tbody>\n",
       "</table>\n",
       "</div>"
      ],
      "text/plain": [
       "         0~9세.2   10~19세.2   20~29세.2   30~39세.2   40~49세.2   50~59세.2  \\\n",
       "행정기관                                                                     \n",
       "전국    1,531,058  2,245,507  2,855,132  3,166,585  3,796,703  4,315,099   \n",
       "\n",
       "       60~69세.2   70~79세.2   80~89세.2 90~99세.2 100세 이상.2  \n",
       "행정기관                                                      \n",
       "전국    3,968,224  2,254,795  1,326,374  252,368     7,052  "
      ]
     },
     "execution_count": 35,
     "metadata": {},
     "output_type": "execute_result"
    }
   ],
   "source": [
    "import pandas as pd\n",
    "w_df = pd.read_excel('data/202412_202412_연령별인구현황_연간.xlsx', skiprows=3, \n",
    "                     index_col='행정기관', usecols='B,AE:AO', nrows=1)\n",
    "w_df\n"
   ]
  },
  {
   "cell_type": "code",
   "execution_count": 32,
   "id": "a03810d9",
   "metadata": {},
   "outputs": [
    {
     "name": "stderr",
     "output_type": "stream",
     "text": [
      "c:\\python3\\Lib\\site-packages\\openpyxl\\styles\\stylesheet.py:237: UserWarning: Workbook contains no default style, apply openpyxl's default\n",
      "  warn(\"Workbook contains no default style, apply openpyxl's default\")\n"
     ]
    },
    {
     "data": {
      "text/html": [
       "<div>\n",
       "<style scoped>\n",
       "    .dataframe tbody tr th:only-of-type {\n",
       "        vertical-align: middle;\n",
       "    }\n",
       "\n",
       "    .dataframe tbody tr th {\n",
       "        vertical-align: top;\n",
       "    }\n",
       "\n",
       "    .dataframe thead th {\n",
       "        text-align: right;\n",
       "    }\n",
       "</style>\n",
       "<table border=\"1\" class=\"dataframe\">\n",
       "  <thead>\n",
       "    <tr style=\"text-align: right;\">\n",
       "      <th></th>\n",
       "      <th>0~9세.1</th>\n",
       "      <th>10~19세.1</th>\n",
       "      <th>20~29세.1</th>\n",
       "      <th>30~39세.1</th>\n",
       "      <th>40~49세.1</th>\n",
       "      <th>50~59세.1</th>\n",
       "      <th>60~69세.1</th>\n",
       "      <th>70~79세.1</th>\n",
       "      <th>80~89세.1</th>\n",
       "      <th>90~99세.1</th>\n",
       "      <th>100세 이상.1</th>\n",
       "    </tr>\n",
       "    <tr>\n",
       "      <th>행정기관</th>\n",
       "      <th></th>\n",
       "      <th></th>\n",
       "      <th></th>\n",
       "      <th></th>\n",
       "      <th></th>\n",
       "      <th></th>\n",
       "      <th></th>\n",
       "      <th></th>\n",
       "      <th></th>\n",
       "      <th></th>\n",
       "      <th></th>\n",
       "    </tr>\n",
       "  </thead>\n",
       "  <tbody>\n",
       "    <tr>\n",
       "      <th>전국</th>\n",
       "      <td>1,609,060</td>\n",
       "      <td>2,373,758</td>\n",
       "      <td>3,100,524</td>\n",
       "      <td>3,457,978</td>\n",
       "      <td>3,926,120</td>\n",
       "      <td>4,391,271</td>\n",
       "      <td>3,850,559</td>\n",
       "      <td>1,931,802</td>\n",
       "      <td>778,170</td>\n",
       "      <td>77,557</td>\n",
       "      <td>1,525</td>\n",
       "    </tr>\n",
       "  </tbody>\n",
       "</table>\n",
       "</div>"
      ],
      "text/plain": [
       "         0~9세.1   10~19세.1   20~29세.1   30~39세.1   40~49세.1   50~59세.1  \\\n",
       "행정기관                                                                     \n",
       "전국    1,609,060  2,373,758  3,100,524  3,457,978  3,926,120  4,391,271   \n",
       "\n",
       "       60~69세.1   70~79세.1 80~89세.1 90~99세.1 100세 이상.1  \n",
       "행정기관                                                    \n",
       "전국    3,850,559  1,931,802  778,170   77,557     1,525  "
      ]
     },
     "execution_count": 32,
     "metadata": {},
     "output_type": "execute_result"
    }
   ],
   "source": [
    "m_df = pd.read_excel('data/202412_202412_연령별인구현황_연간.xlsx', skiprows=3,\n",
    "                     index_col='행정기관', usecols='B,R:AB', nrows=1)\n",
    "m_df"
   ]
  },
  {
   "cell_type": "code",
   "execution_count": null,
   "id": "042cb7e4",
   "metadata": {},
   "outputs": [
    {
     "name": "stderr",
     "output_type": "stream",
     "text": [
      "c:\\python3\\Lib\\site-packages\\openpyxl\\styles\\stylesheet.py:237: UserWarning: Workbook contains no default style, apply openpyxl's default\n",
      "  warn(\"Workbook contains no default style, apply openpyxl's default\")\n"
     ]
    },
    {
     "data": {
      "text/html": [
       "<div>\n",
       "<style scoped>\n",
       "    .dataframe tbody tr th:only-of-type {\n",
       "        vertical-align: middle;\n",
       "    }\n",
       "\n",
       "    .dataframe tbody tr th {\n",
       "        vertical-align: top;\n",
       "    }\n",
       "\n",
       "    .dataframe thead th {\n",
       "        text-align: right;\n",
       "    }\n",
       "</style>\n",
       "<table border=\"1\" class=\"dataframe\">\n",
       "  <thead>\n",
       "    <tr style=\"text-align: right;\">\n",
       "      <th></th>\n",
       "      <th>0~9세</th>\n",
       "      <th>10~19세</th>\n",
       "      <th>20~29세</th>\n",
       "      <th>30~39세</th>\n",
       "      <th>40~49세</th>\n",
       "      <th>50~59세</th>\n",
       "      <th>60~69세</th>\n",
       "      <th>70~79세</th>\n",
       "      <th>80~89세</th>\n",
       "      <th>90~99세</th>\n",
       "      <th>100세 이상</th>\n",
       "    </tr>\n",
       "    <tr>\n",
       "      <th>행정기관</th>\n",
       "      <th></th>\n",
       "      <th></th>\n",
       "      <th></th>\n",
       "      <th></th>\n",
       "      <th></th>\n",
       "      <th></th>\n",
       "      <th></th>\n",
       "      <th></th>\n",
       "      <th></th>\n",
       "      <th></th>\n",
       "      <th></th>\n",
       "    </tr>\n",
       "  </thead>\n",
       "  <tbody>\n",
       "    <tr>\n",
       "      <th>전국</th>\n",
       "      <td>3,140,118</td>\n",
       "      <td>4,619,265</td>\n",
       "      <td>5,955,656</td>\n",
       "      <td>6,624,563</td>\n",
       "      <td>7,722,823</td>\n",
       "      <td>8,706,370</td>\n",
       "      <td>7,818,783</td>\n",
       "      <td>4,186,597</td>\n",
       "      <td>2,104,544</td>\n",
       "      <td>329,925</td>\n",
       "      <td>8,577</td>\n",
       "    </tr>\n",
       "  </tbody>\n",
       "</table>\n",
       "</div>"
      ],
      "text/plain": [
       "           0~9세     10~19세     20~29세     30~39세     40~49세     50~59세  \\\n",
       "행정기관                                                                     \n",
       "전국    3,140,118  4,619,265  5,955,656  6,624,563  7,722,823  8,706,370   \n",
       "\n",
       "         60~69세     70~79세     80~89세   90~99세 100세 이상  \n",
       "행정기관                                                    \n",
       "전국    7,818,783  4,186,597  2,104,544  329,925   8,577  "
      ]
     },
     "execution_count": 24,
     "metadata": {},
     "output_type": "execute_result"
    }
   ],
   "source": [
    "df = pd.read_excel(\"data/202412_202412_연령별인구현황_연간.xlsx\", skiprows=3, \n",
    "                   usecols='B,E:O', index_col=\"행정기관\", nrows=1)\n",
    "df"
   ]
  },
  {
   "cell_type": "code",
   "execution_count": 36,
   "id": "d5959aec",
   "metadata": {},
   "outputs": [
    {
     "data": {
      "text/plain": [
       "Index(['0~9세.2', '10~19세.2', '20~29세.2', '30~39세.2', '40~49세.2', '50~59세.2',\n",
       "       '60~69세.2', '70~79세.2', '80~89세.2', '90~99세.2', '100세 이상.2'],\n",
       "      dtype='object')"
      ]
     },
     "execution_count": 36,
     "metadata": {},
     "output_type": "execute_result"
    }
   ],
   "source": [
    "df.columns\n",
    "m_df.columns\n",
    "w_df.columns"
   ]
  },
  {
   "cell_type": "code",
   "execution_count": 37,
   "id": "621d65c8",
   "metadata": {},
   "outputs": [
    {
     "data": {
      "text/plain": [
       "행정기관\n",
       "전국      1,531,058\n",
       "Name: 0~9세.2, dtype: object"
      ]
     },
     "execution_count": 37,
     "metadata": {},
     "output_type": "execute_result"
    }
   ],
   "source": [
    "df['0~9세']\n",
    "m_df['0~9세.1']\n",
    "w_df['0~9세.2']"
   ]
  },
  {
   "cell_type": "code",
   "execution_count": 38,
   "id": "3440779d",
   "metadata": {},
   "outputs": [
    {
     "data": {
      "text/plain": [
       "Index(['0~9세', '10~19세', '20~29세', '30~39세', '40~49세', '50~59세', '60~69세',\n",
       "       '70~79세', '80~89세', '90~99세', '100세 이상'],\n",
       "      dtype='object')"
      ]
     },
     "execution_count": 38,
     "metadata": {},
     "output_type": "execute_result"
    }
   ],
   "source": [
    "### 컬럼명 변경\n",
    "### 0~9.1 -> 0~9세 변경\n",
    "m_df.columns = df.columns\n",
    "m_df.columns"
   ]
  },
  {
   "cell_type": "code",
   "execution_count": 39,
   "id": "2b5da356",
   "metadata": {},
   "outputs": [
    {
     "data": {
      "text/plain": [
       "행정기관\n",
       "전국      3,140,118\n",
       "Name: 0~9세, dtype: object"
      ]
     },
     "execution_count": 39,
     "metadata": {},
     "output_type": "execute_result"
    }
   ],
   "source": [
    "df['0~9세']"
   ]
  },
  {
   "cell_type": "code",
   "execution_count": null,
   "id": "43d9bf62",
   "metadata": {},
   "outputs": [],
   "source": []
  }
 ],
 "metadata": {
  "kernelspec": {
   "display_name": "Python 3",
   "language": "python",
   "name": "python3"
  },
  "language_info": {
   "codemirror_mode": {
    "name": "ipython",
    "version": 3
   },
   "file_extension": ".py",
   "mimetype": "text/x-python",
   "name": "python",
   "nbconvert_exporter": "python",
   "pygments_lexer": "ipython3",
   "version": "3.13.2"
  }
 },
 "nbformat": 4,
 "nbformat_minor": 5
}
