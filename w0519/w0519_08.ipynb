{
 "cells": [
  {
   "cell_type": "code",
   "execution_count": 36,
   "id": "63cc677b",
   "metadata": {},
   "outputs": [
    {
     "name": "stderr",
     "output_type": "stream",
     "text": [
      "c:\\python3\\Lib\\site-packages\\openpyxl\\styles\\stylesheet.py:237: UserWarning: Workbook contains no default style, apply openpyxl's default\n",
      "  warn(\"Workbook contains no default style, apply openpyxl's default\")\n",
      "c:\\python3\\Lib\\site-packages\\openpyxl\\styles\\stylesheet.py:237: UserWarning: Workbook contains no default style, apply openpyxl's default\n",
      "  warn(\"Workbook contains no default style, apply openpyxl's default\")\n",
      "c:\\python3\\Lib\\site-packages\\openpyxl\\styles\\stylesheet.py:237: UserWarning: Workbook contains no default style, apply openpyxl's default\n",
      "  warn(\"Workbook contains no default style, apply openpyxl's default\")\n"
     ]
    },
    {
     "data": {
      "text/html": [
       "<div>\n",
       "<style scoped>\n",
       "    .dataframe tbody tr th:only-of-type {\n",
       "        vertical-align: middle;\n",
       "    }\n",
       "\n",
       "    .dataframe tbody tr th {\n",
       "        vertical-align: top;\n",
       "    }\n",
       "\n",
       "    .dataframe thead th {\n",
       "        text-align: right;\n",
       "    }\n",
       "</style>\n",
       "<table border=\"1\" class=\"dataframe\">\n",
       "  <thead>\n",
       "    <tr style=\"text-align: right;\">\n",
       "      <th></th>\n",
       "      <th>0~9세.2</th>\n",
       "      <th>10~19세.2</th>\n",
       "      <th>20~29세.2</th>\n",
       "      <th>30~39세.2</th>\n",
       "      <th>40~49세.2</th>\n",
       "      <th>50~59세.2</th>\n",
       "      <th>60~69세.2</th>\n",
       "      <th>70~79세.2</th>\n",
       "      <th>80~89세.2</th>\n",
       "      <th>90~99세.2</th>\n",
       "      <th>100세 이상.2</th>\n",
       "    </tr>\n",
       "    <tr>\n",
       "      <th>행정기관</th>\n",
       "      <th></th>\n",
       "      <th></th>\n",
       "      <th></th>\n",
       "      <th></th>\n",
       "      <th></th>\n",
       "      <th></th>\n",
       "      <th></th>\n",
       "      <th></th>\n",
       "      <th></th>\n",
       "      <th></th>\n",
       "      <th></th>\n",
       "    </tr>\n",
       "  </thead>\n",
       "  <tbody>\n",
       "    <tr>\n",
       "      <th>전국</th>\n",
       "      <td>1,531,058</td>\n",
       "      <td>2,245,507</td>\n",
       "      <td>2,855,132</td>\n",
       "      <td>3,166,585</td>\n",
       "      <td>3,796,703</td>\n",
       "      <td>4,315,099</td>\n",
       "      <td>3,968,224</td>\n",
       "      <td>2,254,795</td>\n",
       "      <td>1,326,374</td>\n",
       "      <td>252,368</td>\n",
       "      <td>7,052</td>\n",
       "    </tr>\n",
       "  </tbody>\n",
       "</table>\n",
       "</div>"
      ],
      "text/plain": [
       "         0~9세.2   10~19세.2   20~29세.2   30~39세.2   40~49세.2   50~59세.2  \\\n",
       "행정기관                                                                     \n",
       "전국    1,531,058  2,245,507  2,855,132  3,166,585  3,796,703  4,315,099   \n",
       "\n",
       "       60~69세.2   70~79세.2   80~89세.2 90~99세.2 100세 이상.2  \n",
       "행정기관                                                      \n",
       "전국    3,968,224  2,254,795  1,326,374  252,368     7,052  "
      ]
     },
     "execution_count": 36,
     "metadata": {},
     "output_type": "execute_result"
    }
   ],
   "source": [
    "#### 파일 import\n",
    "import pandas as pd\n",
    "\n",
    "#### 계\n",
    "df = pd.read_excel(\"data/202412_202412_연령별인구현황_연간.xlsx\", skiprows=3, \n",
    "                   usecols='B,E:O', index_col=\"행정기관\", nrows=1)\n",
    "df\n",
    "\n",
    "#### 남자\n",
    "m_df = pd.read_excel(\"data/202412_202412_연령별인구현황_연간.xlsx\", skiprows=3, \n",
    "                   usecols='B,R:AB', index_col=\"행정기관\", nrows=1)\n",
    "m_df\n",
    "\n",
    "#### 여자\n",
    "w_df = pd.read_excel(\"data/202412_202412_연령별인구현황_연간.xlsx\", skiprows=3, \n",
    "                   usecols='B,AE:AO', index_col=\"행정기관\", nrows=1)\n",
    "w_df\n"
   ]
  },
  {
   "cell_type": "code",
   "execution_count": 37,
   "id": "0b42a78a",
   "metadata": {},
   "outputs": [
    {
     "data": {
      "text/plain": [
       "Index(['0~9세', '10~19세', '20~29세', '30~39세', '40~49세', '50~59세', '60~69세',\n",
       "       '70~79세', '80~89세', '90~99세', '100세 이상'],\n",
       "      dtype='object')"
      ]
     },
     "execution_count": 37,
     "metadata": {},
     "output_type": "execute_result"
    }
   ],
   "source": [
    "## 컬럼명을 비교\n",
    "df.columns # 컬럼명 '0~9세'\n",
    "m_df.columns # 컬럼명 '0~9세.1'\n",
    "w_df.columns # 컬럼명 '0~9세.2'\n",
    "\n",
    "### 컬럼명으로 컬럼 출력\n",
    "# df['0~9세']\n",
    "# m_df['0~9세.1']\n",
    "# w_df['0~9세.2']\n",
    "\n",
    "### 컬럼명 변경\n",
    "df.columns\n",
    "m_df.columns = df.columns # 컬럼명 변경\n",
    "w_df.columns = df.columns # 컬럼명 변경\n",
    "\n",
    "w_df.columns\n"
   ]
  },
  {
   "cell_type": "code",
   "execution_count": 38,
   "id": "533652cb",
   "metadata": {},
   "outputs": [
    {
     "data": {
      "text/plain": [
       "행정기관\n",
       "전국      3,140,118\n",
       "Name: 0~9세, dtype: object"
      ]
     },
     "execution_count": 38,
     "metadata": {},
     "output_type": "execute_result"
    }
   ],
   "source": [
    "df['0~9세']\n",
    "# m_df['0~9세']\n",
    "# w_df['0~9세']"
   ]
  },
  {
   "cell_type": "markdown",
   "id": "b69c1c40",
   "metadata": {},
   "source": [
    "### replace ,를 삭제(천단위삭제), 타입변경 : astype(int), "
   ]
  },
  {
   "cell_type": "code",
   "execution_count": 39,
   "id": "6563fef5",
   "metadata": {},
   "outputs": [
    {
     "name": "stdout",
     "output_type": "stream",
     "text": [
      "<class 'pandas.core.frame.DataFrame'>\n",
      "Index: 1 entries, 전국   to 전국  \n",
      "Data columns (total 11 columns):\n",
      " #   Column   Non-Null Count  Dtype \n",
      "---  ------   --------------  ----- \n",
      " 0   0~9세     1 non-null      int64 \n",
      " 1   10~19세   1 non-null      object\n",
      " 2   20~29세   1 non-null      object\n",
      " 3   30~39세   1 non-null      object\n",
      " 4   40~49세   1 non-null      object\n",
      " 5   50~59세   1 non-null      object\n",
      " 6   60~69세   1 non-null      object\n",
      " 7   70~79세   1 non-null      object\n",
      " 8   80~89세   1 non-null      object\n",
      " 9   90~99세   1 non-null      object\n",
      " 10  100세 이상  1 non-null      object\n",
      "dtypes: int64(1), object(10)\n",
      "memory usage: 204.0+ bytes\n"
     ]
    }
   ],
   "source": [
    "# df.describe()\n",
    "# df.info()\n",
    "\n",
    "# df['0~9세'] = df['0~9세'].str.replace(\",\",\"\") # 천단위 삭제\n",
    "# df['0~9세'] = df['0~9세'].astype(int) # 타입변경\n",
    "df['0~9세'] = df['0~9세'].str.replace(\",\",\"\").astype(int)\n",
    "df.info()"
   ]
  },
  {
   "cell_type": "code",
   "execution_count": null,
   "id": "7c000222",
   "metadata": {},
   "outputs": [
    {
     "name": "stdout",
     "output_type": "stream",
     "text": [
      "<class 'pandas.core.frame.DataFrame'>\n",
      "Index: 1 entries, 전국   to 전국  \n",
      "Data columns (total 11 columns):\n",
      " #   Column   Non-Null Count  Dtype \n",
      "---  ------   --------------  ----- \n",
      " 0   0~9세     1 non-null      int64 \n",
      " 1   10~19세   1 non-null      int64 \n",
      " 2   20~29세   1 non-null      object\n",
      " 3   30~39세   1 non-null      object\n",
      " 4   40~49세   1 non-null      object\n",
      " 5   50~59세   1 non-null      object\n",
      " 6   60~69세   1 non-null      object\n",
      " 7   70~79세   1 non-null      object\n",
      " 8   80~89세   1 non-null      object\n",
      " 9   90~99세   1 non-null      object\n",
      " 10  100세 이상  1 non-null      object\n",
      "dtypes: int64(2), object(9)\n",
      "memory usage: 204.0+ bytes\n"
     ]
    }
   ],
   "source": [
    "df.columns\n",
    "\n",
    "# '10~19세' 천단위 삭제 int 변경\n",
    "df['10~19세'] = df['10~19세'].str.replace(\",\",\"\").astype(int)\n",
    "df['10~19세']\n",
    "\n"
   ]
  },
  {
   "cell_type": "code",
   "execution_count": 46,
   "id": "baaf2dae",
   "metadata": {},
   "outputs": [],
   "source": [
    "### m_df 천단위 삭제, int 타입변경\n",
    "# m_df.info()\n",
    "m_df = m_df.T"
   ]
  },
  {
   "cell_type": "code",
   "execution_count": 48,
   "id": "79b9b28e",
   "metadata": {},
   "outputs": [
    {
     "data": {
      "text/html": [
       "<div>\n",
       "<style scoped>\n",
       "    .dataframe tbody tr th:only-of-type {\n",
       "        vertical-align: middle;\n",
       "    }\n",
       "\n",
       "    .dataframe tbody tr th {\n",
       "        vertical-align: top;\n",
       "    }\n",
       "\n",
       "    .dataframe thead th {\n",
       "        text-align: right;\n",
       "    }\n",
       "</style>\n",
       "<table border=\"1\" class=\"dataframe\">\n",
       "  <thead>\n",
       "    <tr style=\"text-align: right;\">\n",
       "      <th>행정기관</th>\n",
       "      <th>전국</th>\n",
       "    </tr>\n",
       "  </thead>\n",
       "  <tbody>\n",
       "    <tr>\n",
       "      <th>0~9세</th>\n",
       "      <td>1,609,060</td>\n",
       "    </tr>\n",
       "    <tr>\n",
       "      <th>10~19세</th>\n",
       "      <td>2,373,758</td>\n",
       "    </tr>\n",
       "  </tbody>\n",
       "</table>\n",
       "</div>"
      ],
      "text/plain": [
       "행정기관         전국  \n",
       "0~9세    1,609,060\n",
       "10~19세  2,373,758"
      ]
     },
     "execution_count": 48,
     "metadata": {},
     "output_type": "execute_result"
    }
   ],
   "source": [
    "m_df.head(2)"
   ]
  },
  {
   "cell_type": "code",
   "execution_count": null,
   "id": "1d6148ed",
   "metadata": {},
   "outputs": [
    {
     "data": {
      "text/plain": [
       "Index(['전국'], dtype='object', name='행정기관')"
      ]
     },
     "execution_count": 58,
     "metadata": {},
     "output_type": "execute_result"
    }
   ],
   "source": [
    "## 축이 변경됨\n",
    "## 컬럼별로 한번에 변경 가능 replace, astype  한번에 \n",
    "# m_df['전국']\n",
    "\n",
    "\n",
    "# m_df.columns\n",
    "# m_df['전국  '] = m_df['전국  '].str.replace(\",\",\"\").astype(int)\n",
    "# m_df\n",
    "\n",
    "# 컬럼명 1개 변경\n",
    "m_df.rename(columns={\"전국  \":\"전국\"},inplace=True)\n",
    "m_df.columns"
   ]
  },
  {
   "cell_type": "code",
   "execution_count": null,
   "id": "4a9d21af",
   "metadata": {},
   "outputs": [],
   "source": [
    "df.set"
   ]
  }
 ],
 "metadata": {
  "kernelspec": {
   "display_name": "Python 3",
   "language": "python",
   "name": "python3"
  },
  "language_info": {
   "codemirror_mode": {
    "name": "ipython",
    "version": 3
   },
   "file_extension": ".py",
   "mimetype": "text/x-python",
   "name": "python",
   "nbconvert_exporter": "python",
   "pygments_lexer": "ipython3",
   "version": "3.13.2"
  }
 },
 "nbformat": 4,
 "nbformat_minor": 5
}
