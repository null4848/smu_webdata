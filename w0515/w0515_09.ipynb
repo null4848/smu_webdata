{
 "cells": [
  {
   "cell_type": "markdown",
   "id": "21d4703b",
   "metadata": {},
   "source": [
    "# 네이버 항공권"
   ]
  },
  {
   "cell_type": "markdown",
   "id": "ba466d8e",
   "metadata": {},
   "source": [
    "### 네이버 항공권"
   ]
  },
  {
   "cell_type": "code",
   "execution_count": 16,
   "id": "18d28b28",
   "metadata": {},
   "outputs": [],
   "source": [
    "\n",
    "import requests\n",
    "from bs4 import BeautifulSoup\n",
    "from selenium import webdriver\n",
    "from selenium.webdriver.common.keys import Keys\n",
    "from selenium.webdriver.common.by import By\n",
    "from selenium.webdriver.chrome.service import Service\n",
    "from selenium.webdriver.chrome.options import Options\n",
    "from selenium.webdriver.support.ui import WebDriverWait\n",
    "from selenium.webdriver.support import expected_conditions as EC\n",
    "import csv\n",
    "import time\n",
    "import random\n",
    "\n",
    "# 크롬 옵션 설정 - 셀레니움 접근 제한 : 보안접근 해제\n",
    "options = Options()\n",
    "options.add_argument(\"--disable-blink-features=AutomationControlled\")  # 자동화 티 안 나게\n",
    "options.add_argument(\"start-maximized\")\n",
    "options.add_argument(\"user-agent=Mozilla/5.0 (Windows NT 10.0; Win64; x64) AppleWebKit/537.36 (KHTML, like Gecko) Chrome/123.0.0.0 Safari/537.36\")\n",
    "options.add_experimental_option(\"excludeSwitches\", [\"enable-automation\"])\n",
    "options.add_experimental_option('useAutomationExtension', False)\n"
   ]
  },
  {
   "cell_type": "code",
   "execution_count": 17,
   "id": "538efe3c",
   "metadata": {},
   "outputs": [],
   "source": [
    "# 브라우저 실행\n",
    "browser = webdriver.Chrome(options=options)\n",
    "browser.maximize_window() # 창 최대화"
   ]
  },
  {
   "cell_type": "code",
   "execution_count": 18,
   "id": "e8726909",
   "metadata": {},
   "outputs": [],
   "source": [
    "### 네이버 항공권 접속\n",
    "url = \"https://flight.naver.com/\"\n",
    "browser.get(url)\n"
   ]
  },
  {
   "cell_type": "code",
   "execution_count": 19,
   "id": "40b15059",
   "metadata": {},
   "outputs": [],
   "source": [
    "time.sleep(2)\n",
    "elem = browser.find_element(By.CLASS_NAME,\"FullscreenPopup_close\")\n",
    "elem.click()"
   ]
  },
  {
   "cell_type": "code",
   "execution_count": 20,
   "id": "91efc94e",
   "metadata": {},
   "outputs": [],
   "source": [
    "# 출발공항클릭\n",
    "elem = browser.find_element(By.XPATH,'//*[@id=\"__next\"]/div/main/div[2]/div/div/div[2]/div[1]/button[1]').click()"
   ]
  },
  {
   "cell_type": "code",
   "execution_count": 21,
   "id": "f7cf129c",
   "metadata": {},
   "outputs": [],
   "source": [
    "# 김포 클릭\n",
    "elem = browser.find_element(By.XPATH,'//*[@id=\"__next\"]/div/main/div[8]/div[2]/div/div/ul[1]/li[3]/button')\n",
    "elem.click()\n"
   ]
  },
  {
   "cell_type": "code",
   "execution_count": 22,
   "id": "61440c09",
   "metadata": {},
   "outputs": [],
   "source": [
    "# 도착공항클릭\n",
    "elem = browser.find_element(By.XPATH,'//*[@id=\"__next\"]/div/main/div[2]/div/div/div[2]/div[1]/button[2]')\n",
    "elem.click()\n",
    "time.sleep(1)\n",
    "\n",
    "# 제주 클릭\n",
    "elem = browser.find_element(By.XPATH,'//*[@id=\"__next\"]/div/main/div[8]/div[2]/div[2]/div[2]/ul[1]/li[1]/button')\n",
    "elem.click()\n",
    "time.sleep(1)\n"
   ]
  },
  {
   "cell_type": "code",
   "execution_count": 23,
   "id": "b977cf2f",
   "metadata": {},
   "outputs": [],
   "source": [
    "# 가는날 클릭\n",
    "elem = browser.find_element(By.XPATH,'//*[@id=\"__next\"]/div/main/div[2]/div/div/div[2]/div[2]/button[1]').click()\n",
    "time.sleep(1)\n",
    "\n",
    "# 5/31 클릭\n",
    "elem = browser.find_element(By.XPATH,'//*[@id=\"__next\"]/div/main/div[8]/div[2]/div[1]/div[2]/div/div/div[2]/table/tbody/tr[5]/td[7]/button').click()\n",
    "time.sleep(1)\n",
    "\n",
    "# 6/1 클릭\n",
    "elem = browser.find_element(By.XPATH,'//*[@id=\"__next\"]/div/main/div[8]/div[2]/div[1]/div[2]/div/div/div[3]/table/tbody/tr[1]/td[1]/button').click()\n",
    "time.sleep(1)\n",
    "\n",
    "# 항공권 검색 클릭\n",
    "elem = browser.find_element(By.XPATH,'//*[@id=\"__next\"]/div/main/div[2]/div/div/div[2]/button').click()"
   ]
  },
  {
   "cell_type": "code",
   "execution_count": 24,
   "id": "ca568fbc",
   "metadata": {},
   "outputs": [
    {
     "name": "stdout",
     "output_type": "stream",
     "text": [
      "스크롤 내리기 종료\n"
     ]
    }
   ],
   "source": [
    "# 스크롤 내리기\n",
    "# 현재 사이트 높이를 가져오는 자바 스크립트\n",
    "prev_height = browser.execute_script(\"return document.body.scrollHeight\")\n",
    "\n",
    "# 반복 실행\n",
    "while True:\n",
    "    # 현재 브라우저에 현재 높이까지 스크롤 내리기\n",
    "    # 자바 스크립트 실행\n",
    "    browser.execute_script(\"window.scrollTo(0, document.body.scrollHeight)\")\n",
    "    time.sleep(2)\n",
    "    # 변동된 현재 문서 높이를 가져오기\n",
    "    curr_height = browser.execute_script(\"return document.body.scrollHeight\")\n",
    "    # 스크롤 높이가 변동이 없을 시 \n",
    "    if curr_height == prev_height: break \n",
    "    prev_height = curr_height # 현재 높이를 다시 입력해서 스크롤 내리기 재실행\n",
    "\n",
    "print(\"스크롤 내리기 종료\")\n"
   ]
  },
  {
   "cell_type": "markdown",
   "id": "f04f3059",
   "metadata": {},
   "source": [
    "네이버 항공권\n",
    "* 김포, 제주 5/31 6/1 ->\n",
    "* 금액 90000원 이상 제외\n",
    "* 김포출발시간 17:00 이상 제외"
   ]
  },
  {
   "cell_type": "code",
   "execution_count": 26,
   "id": "abcc6a64",
   "metadata": {},
   "outputs": [
    {
     "name": "stdout",
     "output_type": "stream",
     "text": [
      "132\n"
     ]
    },
    {
     "ename": "NameError",
     "evalue": "name 'times' is not defined",
     "output_type": "error",
     "traceback": [
      "\u001b[31m---------------------------------------------------------------------------\u001b[39m",
      "\u001b[31mNameError\u001b[39m                                 Traceback (most recent call last)",
      "\u001b[36mCell\u001b[39m\u001b[36m \u001b[39m\u001b[32mIn[26]\u001b[39m\u001b[32m, line 12\u001b[39m\n\u001b[32m      9\u001b[39m datas_list=[]\n\u001b[32m     11\u001b[39m \u001b[38;5;28;01mfor\u001b[39;00m data \u001b[38;5;129;01min\u001b[39;00m datas:\n\u001b[32m---> \u001b[39m\u001b[32m12\u001b[39m     startTime = \u001b[43mtimes\u001b[49m[\u001b[32m0\u001b[39m].get_text().strip()\n\u001b[32m     14\u001b[39m     standard_time = datetime(\u001b[32m2025\u001b[39m,\u001b[32m5\u001b[39m,\u001b[32m31\u001b[39m,\u001b[32m17\u001b[39m,\u001b[32m00\u001b[39m,\u001b[32m00\u001b[39m)\n\u001b[32m     16\u001b[39m     d_time = startTime.split(\u001b[33m\"\u001b[39m\u001b[33m:\u001b[39m\u001b[33m\"\u001b[39m)\n",
      "\u001b[31mNameError\u001b[39m: name 'times' is not defined"
     ]
    }
   ],
   "source": [
    "# import datetime\n",
    "from datetime import datetime\n",
    "\n",
    "soup = BeautifulSoup(browser.page_source,\"lxml\")\n",
    "\n",
    "datas = soup.find_all(\"div\",{\"class\":\"domestic_Flight__8bR_b\"})\n",
    "print(len(datas))\n",
    "\n",
    "datas_list=[]\n",
    "\n",
    "for data in datas:\n",
    "    times = data.find_all(\"div\", {\"class\": \"route_time__xWu7a\"})\n",
    "\n",
    "    startTime = times[0].get_text().strip()\n",
    "    endTime = times[1].get_text().strip()\n",
    "\n",
    "    standard_time = datetime(2025,5,31,17,00,00)\\\n",
    "        \n",
    "    d_time = startTime.split(\":\")\n",
    "    search_time = datetime(2025,5,30,int(d_time[0]),int(d_time[1]),00)\n",
    "\n",
    "    if (standard_time<search_time): # 기준시간보다 검색된 시간이 더 크면 제외\n",
    "        continue\n",
    "    else:\n",
    "        print(\"데이터 출력대상입니다.\")\n",
    "    \n",
    "\n",
    "    price = data.find(\"i\", {\"class\": \"domestic_num__ShOub\"}).get_text().strip().replace(\",\",\"\")\n",
    "    price=int(price)\n",
    "    if price<140000 or (standard_time<search_time):\n",
    "        \n",
    "        airline = data.find(\"b\", {\"class\": \"airline_name__0Tw5w\"}).get_text().strip()\n",
    "        print(\"항공사 :\", airline)\n",
    "        \n",
    "        times = data.find_all(\"div\",{\"class\":\"route_time__xWu7a\"})\n",
    "        \n",
    "        startTime = times[0].get_text().strip()\n",
    "        print(startTime)\n",
    "        endTime = times[1].get_text().strip()\n",
    "        print(endTime)\n",
    "        print(price)\n",
    "    "
   ]
  },
  {
   "cell_type": "code",
   "execution_count": null,
   "id": "556960b8",
   "metadata": {},
   "outputs": [],
   "source": []
  }
 ],
 "metadata": {
  "kernelspec": {
   "display_name": "Python 3",
   "language": "python",
   "name": "python3"
  },
  "language_info": {
   "codemirror_mode": {
    "name": "ipython",
    "version": 3
   },
   "file_extension": ".py",
   "mimetype": "text/x-python",
   "name": "python",
   "nbconvert_exporter": "python",
   "pygments_lexer": "ipython3",
   "version": "3.13.2"
  }
 },
 "nbformat": 4,
 "nbformat_minor": 5
}
