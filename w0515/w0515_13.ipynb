{
 "cells": [
  {
   "cell_type": "code",
   "execution_count": 49,
   "id": "4d9b3497",
   "metadata": {},
   "outputs": [],
   "source": [
    "import pandas as pd\n",
    "df = pd.read_csv('file/stock.csv', index_col='N')\n",
    "df.index.name = \"번호\"\n"
   ]
  },
  {
   "cell_type": "code",
   "execution_count": 3,
   "id": "804cd8d7",
   "metadata": {},
   "outputs": [
    {
     "name": "stdout",
     "output_type": "stream",
     "text": [
      "<class 'pandas.core.frame.DataFrame'>\n",
      "Index: 250 entries, 1 to 250\n",
      "Data columns (total 11 columns):\n",
      " #   Column  Non-Null Count  Dtype  \n",
      "---  ------  --------------  -----  \n",
      " 0   종목명     250 non-null    object \n",
      " 1   현재가     250 non-null    object \n",
      " 2   전일비     250 non-null    object \n",
      " 3   등락률     250 non-null    object \n",
      " 4   액면가     250 non-null    object \n",
      " 5   시가총액    250 non-null    object \n",
      " 6   상장주식수   250 non-null    object \n",
      " 7   외국인비율   250 non-null    float64\n",
      " 8   거래량     250 non-null    object \n",
      " 9   PER     207 non-null    object \n",
      " 10  ROE     202 non-null    float64\n",
      "dtypes: float64(2), object(9)\n",
      "memory usage: 23.4+ KB\n"
     ]
    }
   ],
   "source": [
    "df.info()"
   ]
  },
  {
   "cell_type": "code",
   "execution_count": 5,
   "id": "d88ecf71",
   "metadata": {},
   "outputs": [
    {
     "data": {
      "text/plain": [
       "Index(['종목명', '현재가', '전일비', '등락률', '액면가', '시가총액', '상장주식수', '외국인비율', '거래량',\n",
       "       'PER', 'ROE'],\n",
       "      dtype='object')"
      ]
     },
     "execution_count": 5,
     "metadata": {},
     "output_type": "execute_result"
    }
   ],
   "source": [
    "df.columns"
   ]
  },
  {
   "cell_type": "code",
   "execution_count": null,
   "id": "3deae052",
   "metadata": {},
   "outputs": [
    {
     "data": {
      "text/html": [
       "<div>\n",
       "<style scoped>\n",
       "    .dataframe tbody tr th:only-of-type {\n",
       "        vertical-align: middle;\n",
       "    }\n",
       "\n",
       "    .dataframe tbody tr th {\n",
       "        vertical-align: top;\n",
       "    }\n",
       "\n",
       "    .dataframe thead th {\n",
       "        text-align: right;\n",
       "    }\n",
       "</style>\n",
       "<table border=\"1\" class=\"dataframe\">\n",
       "  <thead>\n",
       "    <tr style=\"text-align: right;\">\n",
       "      <th></th>\n",
       "      <th>현재가</th>\n",
       "      <th>등락률</th>\n",
       "      <th>ROE</th>\n",
       "    </tr>\n",
       "    <tr>\n",
       "      <th>종목명</th>\n",
       "      <th></th>\n",
       "      <th></th>\n",
       "      <th></th>\n",
       "    </tr>\n",
       "  </thead>\n",
       "  <tbody>\n",
       "    <tr>\n",
       "      <th>효성티앤씨</th>\n",
       "      <td>841,000</td>\n",
       "      <td>-4.21%</td>\n",
       "      <td>53.94</td>\n",
       "    </tr>\n",
       "    <tr>\n",
       "      <th>효성중공업</th>\n",
       "      <td>23,050</td>\n",
       "      <td>-2.12%</td>\n",
       "      <td>7.57</td>\n",
       "    </tr>\n",
       "    <tr>\n",
       "      <th>호텔신라</th>\n",
       "      <td>13,000</td>\n",
       "      <td>+1.01%</td>\n",
       "      <td>4.40</td>\n",
       "    </tr>\n",
       "    <tr>\n",
       "      <th>현대해상</th>\n",
       "      <td>138,300</td>\n",
       "      <td>+2.14%</td>\n",
       "      <td>5.09</td>\n",
       "    </tr>\n",
       "    <tr>\n",
       "      <th>현대차우</th>\n",
       "      <td>12,300</td>\n",
       "      <td>+0.70%</td>\n",
       "      <td>NaN</td>\n",
       "    </tr>\n",
       "    <tr>\n",
       "      <th>...</th>\n",
       "      <td>...</td>\n",
       "      <td>...</td>\n",
       "      <td>...</td>\n",
       "    </tr>\n",
       "    <tr>\n",
       "      <th>ACE 테슬라밸류체인액티브</th>\n",
       "      <td>19,010</td>\n",
       "      <td>+4.68%</td>\n",
       "      <td>15.35</td>\n",
       "    </tr>\n",
       "    <tr>\n",
       "      <th>ACE 미국나스닥100</th>\n",
       "      <td>83,100</td>\n",
       "      <td>+7.36%</td>\n",
       "      <td>27.43</td>\n",
       "    </tr>\n",
       "    <tr>\n",
       "      <th>ACE 미국S&amp;P500</th>\n",
       "      <td>18,370</td>\n",
       "      <td>+1.30%</td>\n",
       "      <td>NaN</td>\n",
       "    </tr>\n",
       "    <tr>\n",
       "      <th>ACE 미국30년국채액티브(H)</th>\n",
       "      <td>20,200</td>\n",
       "      <td>+1.92%</td>\n",
       "      <td>19.65</td>\n",
       "    </tr>\n",
       "    <tr>\n",
       "      <th>ACE KRX금현물</th>\n",
       "      <td>22,850</td>\n",
       "      <td>+0.66%</td>\n",
       "      <td>6.95</td>\n",
       "    </tr>\n",
       "  </tbody>\n",
       "</table>\n",
       "<p>250 rows × 3 columns</p>\n",
       "</div>"
      ],
      "text/plain": [
       "                       현재가     등락률    ROE\n",
       "종목명                                      \n",
       "효성티앤씨              841,000  -4.21%  53.94\n",
       "효성중공업               23,050  -2.12%   7.57\n",
       "호텔신라                13,000  +1.01%   4.40\n",
       "현대해상               138,300  +2.14%   5.09\n",
       "현대차우                12,300  +0.70%    NaN\n",
       "...                    ...     ...    ...\n",
       "ACE 테슬라밸류체인액티브      19,010  +4.68%  15.35\n",
       "ACE 미국나스닥100        83,100  +7.36%  27.43\n",
       "ACE 미국S&P500        18,370  +1.30%    NaN\n",
       "ACE 미국30년국채액티브(H)   20,200  +1.92%  19.65\n",
       "ACE KRX금현물          22,850  +0.66%   6.95\n",
       "\n",
       "[250 rows x 3 columns]"
      ]
     },
     "execution_count": 35,
     "metadata": {},
     "output_type": "execute_result"
    }
   ],
   "source": [
    "# 종목명 현재가 등락률 시가총액을 출력하시오.\n",
    "# 10:20까지 출력하시오\n",
    "# df[['종목명','현재가','등락률','시가총액']][10:20]\n",
    "\n",
    "# columns 3:5 까지 추력하시오\n",
    "# df[df.columns[3:6]][3:20]\n",
    "\n",
    "\n",
    "# row 3:30까지 출력하시오.\n",
    "# df[3:5]\n",
    "\n",
    "\n",
    "#3 종목명을 가지고 역순정렬\n",
    "# index 삭제후 종목명을 index 지정\n",
    "# index 삭제\n",
    "# df.reset_index(inplace=True)\n",
    "# index 지정\n",
    "# df.set_index(\"종목명\",inplace=True)\n",
    "# 정렬\n",
    "df.sort_index(ascending=False,inplace=True)\n",
    "df.head(10)\n",
    "df[df.columns[[1,3,-1]]]"
   ]
  },
  {
   "cell_type": "code",
   "execution_count": null,
   "id": "cf2bec1c",
   "metadata": {},
   "outputs": [
    {
     "data": {
      "text/html": [
       "<div>\n",
       "<style scoped>\n",
       "    .dataframe tbody tr th:only-of-type {\n",
       "        vertical-align: middle;\n",
       "    }\n",
       "\n",
       "    .dataframe tbody tr th {\n",
       "        vertical-align: top;\n",
       "    }\n",
       "\n",
       "    .dataframe thead th {\n",
       "        text-align: right;\n",
       "    }\n",
       "</style>\n",
       "<table border=\"1\" class=\"dataframe\">\n",
       "  <thead>\n",
       "    <tr style=\"text-align: right;\">\n",
       "      <th></th>\n",
       "      <th>번호</th>\n",
       "      <th>현재가</th>\n",
       "      <th>전일비</th>\n",
       "      <th>등락률</th>\n",
       "      <th>액면가</th>\n",
       "      <th>시가총액</th>\n",
       "      <th>상장주식수</th>\n",
       "      <th>외국인비율</th>\n",
       "      <th>거래량</th>\n",
       "      <th>PER</th>\n",
       "      <th>ROE</th>\n",
       "    </tr>\n",
       "    <tr>\n",
       "      <th>종목명</th>\n",
       "      <th></th>\n",
       "      <th></th>\n",
       "      <th></th>\n",
       "      <th></th>\n",
       "      <th></th>\n",
       "      <th></th>\n",
       "      <th></th>\n",
       "      <th></th>\n",
       "      <th></th>\n",
       "      <th></th>\n",
       "      <th></th>\n",
       "    </tr>\n",
       "  </thead>\n",
       "  <tbody>\n",
       "    <tr>\n",
       "      <th>효성티앤씨</th>\n",
       "      <td>6</td>\n",
       "      <td>841,000</td>\n",
       "      <td>하락37,000</td>\n",
       "      <td>-4.21%</td>\n",
       "      <td>5,000</td>\n",
       "      <td>383,338</td>\n",
       "      <td>45,581</td>\n",
       "      <td>47.09</td>\n",
       "      <td>150,543</td>\n",
       "      <td>17.92</td>\n",
       "      <td>53.94</td>\n",
       "    </tr>\n",
       "    <tr>\n",
       "      <th>효성중공업</th>\n",
       "      <td>168</td>\n",
       "      <td>23,050</td>\n",
       "      <td>하락500</td>\n",
       "      <td>-2.12%</td>\n",
       "      <td>500</td>\n",
       "      <td>18,315</td>\n",
       "      <td>79,458</td>\n",
       "      <td>9.54</td>\n",
       "      <td>63,267</td>\n",
       "      <td>8.78</td>\n",
       "      <td>7.57</td>\n",
       "    </tr>\n",
       "    <tr>\n",
       "      <th>호텔신라</th>\n",
       "      <td>74</td>\n",
       "      <td>13,000</td>\n",
       "      <td>상승130</td>\n",
       "      <td>+1.01%</td>\n",
       "      <td>5,000</td>\n",
       "      <td>56,759</td>\n",
       "      <td>436,611</td>\n",
       "      <td>35.81</td>\n",
       "      <td>944,005</td>\n",
       "      <td>15.15</td>\n",
       "      <td>4.40</td>\n",
       "    </tr>\n",
       "  </tbody>\n",
       "</table>\n",
       "</div>"
      ],
      "text/plain": [
       "        번호      현재가       전일비     등락률    액면가     시가총액    상장주식수  외국인비율  \\\n",
       "종목명                                                                     \n",
       "효성티앤씨    6  841,000  하락37,000  -4.21%  5,000  383,338   45,581  47.09   \n",
       "효성중공업  168   23,050     하락500  -2.12%    500   18,315   79,458   9.54   \n",
       "호텔신라    74   13,000     상승130  +1.01%  5,000   56,759  436,611  35.81   \n",
       "\n",
       "           거래량    PER    ROE  \n",
       "종목명                           \n",
       "효성티앤씨  150,543  17.92  53.94  \n",
       "효성중공업   63,267   8.78   7.57  \n",
       "호텔신라   944,005  15.15   4.40  "
      ]
     },
     "execution_count": 38,
     "metadata": {},
     "output_type": "execute_result"
    }
   ],
   "source": [
    "# df - column 정보 출력, df.iloc df.iloc\n",
    "df['현재가']\n",
    "df[:][:5]\n",
    "df.iloc[:3]"
   ]
  },
  {
   "cell_type": "code",
   "execution_count": null,
   "id": "ce3c4ef9",
   "metadata": {},
   "outputs": [
    {
     "name": "stdout",
     "output_type": "stream",
     "text": [
      "<class 'pandas.core.frame.DataFrame'>\n",
      "Index: 250 entries, 1 to 250\n",
      "Data columns (total 11 columns):\n",
      " #   Column  Non-Null Count  Dtype  \n",
      "---  ------  --------------  -----  \n",
      " 0   종목명     250 non-null    object \n",
      " 1   현재가     250 non-null    int64  \n",
      " 2   전일비     250 non-null    object \n",
      " 3   등락률     250 non-null    object \n",
      " 4   액면가     250 non-null    object \n",
      " 5   시가총액    250 non-null    object \n",
      " 6   상장주식수   250 non-null    object \n",
      " 7   외국인비율   250 non-null    float64\n",
      " 8   거래량     250 non-null    object \n",
      " 9   PER     207 non-null    object \n",
      " 10  ROE     202 non-null    float64\n",
      "dtypes: float64(2), int64(1), object(8)\n",
      "memory usage: 23.4+ KB\n"
     ]
    }
   ],
   "source": [
    "# df.info() # 현재가 타입 - object\n",
    "df['현재가'][:3] #타입을 변경하려고함\n",
    "\n",
    "## 숫자타입 변경시 \n",
    "# 1.천단위 표시 제거를 해야 함.\n",
    "# 2. str.replace(\",\",\"\")\n",
    "# 3. 타입변경 (astype(int))\n",
    "\n",
    "df['현재가'] = df['현재가'].str.replace(\",\",\"\").astype(int)\n",
    "df['현재가'] # object\n",
    "\n",
    "df.info()\n",
    "\n"
   ]
  },
  {
   "cell_type": "code",
   "execution_count": 58,
   "id": "73a1fe80",
   "metadata": {},
   "outputs": [
    {
     "data": {
      "text/plain": [
       "np.float64(106748.388)"
      ]
     },
     "execution_count": 58,
     "metadata": {},
     "output_type": "execute_result"
    }
   ],
   "source": [
    "### 최대값, 최소값, 상위5개 출력, 하위 5개 출력, 평균\n",
    "\n",
    "df['현재가'].max()\n",
    "df['현재가'].min()\n",
    "df['현재가'].head()\n",
    "df['현재가'].tail()\n",
    "df['현재가'].mean()"
   ]
  },
  {
   "cell_type": "code",
   "execution_count": null,
   "id": "1603925b",
   "metadata": {},
   "outputs": [],
   "source": [
    "# "
   ]
  }
 ],
 "metadata": {
  "kernelspec": {
   "display_name": "Python 3",
   "language": "python",
   "name": "python3"
  },
  "language_info": {
   "codemirror_mode": {
    "name": "ipython",
    "version": 3
   },
   "file_extension": ".py",
   "mimetype": "text/x-python",
   "name": "python",
   "nbconvert_exporter": "python",
   "pygments_lexer": "ipython3",
   "version": "3.13.2"
  }
 },
 "nbformat": 4,
 "nbformat_minor": 5
}
