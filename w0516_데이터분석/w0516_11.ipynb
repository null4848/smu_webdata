{
 "cells": [
  {
   "cell_type": "markdown",
   "id": "c9eded65",
   "metadata": {},
   "source": [
    "제목\n",
    "개봉일\n",
    "평점\n",
    "\n",
    "평점에 대한 평균과 합계\n",
    "최대값, 최소값을 출력하시오"
   ]
  },
  {
   "cell_type": "code",
   "execution_count": 31,
   "id": "0edf0063",
   "metadata": {},
   "outputs": [],
   "source": [
    "import requests\n",
    "from bs4 import BeautifulSoup\n",
    "from selenium import webdriver\n",
    "from selenium.webdriver.common.keys import Keys\n",
    "from selenium.webdriver.common.by import By\n",
    "from selenium.webdriver.chrome.service import Service\n",
    "from selenium.webdriver.chrome.options import Options\n",
    "from selenium.webdriver.support.ui import WebDriverWait\n",
    "from selenium.webdriver.support import expected_conditions as EC\n",
    "import csv\n",
    "import time\n",
    "import random\n",
    "from datetime import datetime\n",
    "\n",
    "# 크롬 옵션 설정 - 셀레니움 접근 제한 : 보안접근 해제\n",
    "options = Options()\n",
    "options.add_argument(\"--disable-blink-features=AutomationControlled\")  # 자동화 티 안 나게\n",
    "options.add_argument(\"start-maximized\")\n",
    "options.add_argument(\"user-agent=Mozilla/5.0 (Windows NT 10.0; Win64; x64) AppleWebKit/537.36 (KHTML, like Gecko) Chrome/123.0.0.0 Safari/537.36\")\n",
    "options.add_experimental_option(\"excludeSwitches\", [\"enable-automation\"])\n",
    "options.add_experimental_option('useAutomationExtension', False)\n",
    "\n",
    "# 브라우저 실행\n",
    "browser = webdriver.Chrome(options=options)\n",
    "\n",
    "url = \"https://search.naver.com/search.naver?where=nexearch&sm=tab_etc&qvt=0&query=%EC%9B%94%EB%B3%84%EA%B0%9C%EB%B4%89%EC%98%81%ED%99%94\"\n",
    "browser.get(url)\n",
    "time.sleep(2) # 페이지 로딩 대기"
   ]
  },
  {
   "cell_type": "code",
   "execution_count": 32,
   "id": "31af4950",
   "metadata": {},
   "outputs": [
    {
     "data": {
      "text/plain": [
       "13"
      ]
     },
     "execution_count": 32,
     "metadata": {},
     "output_type": "execute_result"
    }
   ],
   "source": [
    "ff = open(\"file/movie.csv\",\"w\",encoding=\"utf-8-sig\",newline=\"\")\n",
    "writer = csv.writer(ff)\n",
    "writer.writerow(['제목','개봉 날짜','평점'])"
   ]
  },
  {
   "cell_type": "code",
   "execution_count": 33,
   "id": "40d7e826",
   "metadata": {},
   "outputs": [],
   "source": [
    "elem = browser.find_element(By.XPATH,'//*[@id=\"main_pack\"]/div[3]/div[2]/div/div/div/div[1]/div[3]/div/div/ul[2]/li[1]/a')\n",
    "elem.click()\n",
    "time.sleep(1)"
   ]
  },
  {
   "cell_type": "code",
   "execution_count": 34,
   "id": "248633ca",
   "metadata": {},
   "outputs": [
    {
     "name": "stdout",
     "output_type": "stream",
     "text": [
      "더 퍼스트 슬램덩크\n",
      "2025.01.04.\n",
      "9.25\n",
      "--------------------------------------------------\n",
      "해리 포터와 죽음의 성물 2\n",
      "2025.01.15.\n",
      "9.17\n",
      "--------------------------------------------------\n",
      "검은 수녀들\n",
      "2025.01.24.\n",
      "6.44\n",
      "--------------------------------------------------\n",
      "히트맨2\n",
      "2025.01.22.\n",
      "7.44\n",
      "--------------------------------------------------\n",
      "러브레터\n",
      "2025.01.01.\n",
      "9.32\n",
      "--------------------------------------------------\n",
      "마당을 나온 암탉\n",
      "2025.01.22.\n",
      "8.67\n",
      "--------------------------------------------------\n",
      "색, 계\n",
      "2025.01.01.\n",
      "8.98\n",
      "--------------------------------------------------\n",
      "말할 수 없는 비밀\n",
      "2025.01.27.\n",
      "8.62\n",
      "--------------------------------------------------\n"
     ]
    }
   ],
   "source": [
    "soup = BeautifulSoup(browser.page_source,\"lxml\")\n",
    "\n",
    "datas = soup.find_all(\"div\",{\"class\":\"card_item\"})\n",
    "\n",
    "for data in datas:\n",
    "    title = data.find(\"a\",{\"class\":\"this_text _text\"}).get_text().strip()\n",
    "    print(title)\n",
    "    date = data.find(\"dl\",{\"class\":\"info_group type_visible\"}).find(\"dd\").get_text().strip()\n",
    "    print(date)\n",
    "    rank = data.find(\"span\",{\"class\":\"num\"}).get_text().strip()\n",
    "    print(rank)\n",
    "    print(\"-\"*50)\n",
    "    writer.writerow([title, date, rank])\n",
    "ff.close()\n",
    "    "
   ]
  },
  {
   "cell_type": "code",
   "execution_count": 35,
   "id": "96b29d8b",
   "metadata": {},
   "outputs": [],
   "source": [
    "import pandas as pd"
   ]
  },
  {
   "cell_type": "markdown",
   "id": "660c3b0d",
   "metadata": {},
   "source": [
    "평점에 대한 평균과 합계\n",
    "최대값, 최소값을 출력하시오"
   ]
  },
  {
   "cell_type": "code",
   "execution_count": 36,
   "id": "3ecef055",
   "metadata": {},
   "outputs": [
    {
     "data": {
      "text/plain": [
       "제목\n",
       "검은 수녀들        6.44\n",
       "히트맨2          7.44\n",
       "말할 수 없는 비밀    8.62\n",
       "마당을 나온 암탉     8.67\n",
       "색, 계          8.98\n",
       "Name: 평점, dtype: float64"
      ]
     },
     "execution_count": 36,
     "metadata": {},
     "output_type": "execute_result"
    }
   ],
   "source": [
    "df = pd.read_csv('file/movie.csv',index_col=\"제목\")\n",
    "\n",
    "df['평점'].mean()\n",
    "df['평점'].sum()\n",
    "df['평점'].min()\n",
    "df['평점'].max()\n",
    "df['평점'].nlargest()\n",
    "df['평점'].nsmallest()"
   ]
  },
  {
   "cell_type": "code",
   "execution_count": 37,
   "id": "1f013cc2",
   "metadata": {},
   "outputs": [
    {
     "name": "stdout",
     "output_type": "stream",
     "text": [
      "<class 'pandas.core.frame.DataFrame'>\n",
      "Index: 8 entries, 더 퍼스트 슬램덩크 to 말할 수 없는 비밀\n",
      "Data columns (total 2 columns):\n",
      " #   Column  Non-Null Count  Dtype  \n",
      "---  ------  --------------  -----  \n",
      " 0   개봉 날짜   8 non-null      object \n",
      " 1   평점      8 non-null      float64\n",
      "dtypes: float64(1), object(1)\n",
      "memory usage: 492.0+ bytes\n"
     ]
    }
   ],
   "source": [
    "df.info()"
   ]
  },
  {
   "cell_type": "code",
   "execution_count": null,
   "id": "ef104603",
   "metadata": {},
   "outputs": [],
   "source": []
  },
  {
   "cell_type": "code",
   "execution_count": null,
   "id": "0662e791",
   "metadata": {},
   "outputs": [],
   "source": []
  },
  {
   "cell_type": "code",
   "execution_count": null,
   "id": "c7085dbd",
   "metadata": {},
   "outputs": [],
   "source": []
  },
  {
   "cell_type": "code",
   "execution_count": null,
   "id": "c30d3c88",
   "metadata": {},
   "outputs": [],
   "source": []
  },
  {
   "cell_type": "code",
   "execution_count": null,
   "id": "7e8b76e7",
   "metadata": {},
   "outputs": [],
   "source": []
  },
  {
   "cell_type": "code",
   "execution_count": null,
   "id": "6d29eca7",
   "metadata": {},
   "outputs": [],
   "source": []
  },
  {
   "cell_type": "code",
   "execution_count": null,
   "id": "0b660409",
   "metadata": {},
   "outputs": [],
   "source": []
  }
 ],
 "metadata": {
  "kernelspec": {
   "display_name": "Python 3",
   "language": "python",
   "name": "python3"
  },
  "language_info": {
   "codemirror_mode": {
    "name": "ipython",
    "version": 3
   },
   "file_extension": ".py",
   "mimetype": "text/x-python",
   "name": "python",
   "nbconvert_exporter": "python",
   "pygments_lexer": "ipython3",
   "version": "3.13.2"
  }
 },
 "nbformat": 4,
 "nbformat_minor": 5
}
