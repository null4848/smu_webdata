{
 "cells": [
  {
   "cell_type": "code",
   "execution_count": 1,
   "id": "82fa0773",
   "metadata": {},
   "outputs": [],
   "source": [
    "import pandas as pd\n",
    "import numpy as np"
   ]
  },
  {
   "cell_type": "code",
   "execution_count": 3,
   "id": "ab989f0d",
   "metadata": {},
   "outputs": [],
   "source": [
    "### 2개 dataFrame 합치기 , concat\n",
    "df1 = pd.read_csv('data/2014년졸음운전교통사고.csv', encoding='euc-kr')\n",
    "df2 = pd.read_csv('data/2015년졸음운전교통사고.csv', encoding='euc-kr')\n",
    "df3 = pd.read_csv('data/2016년졸음운전교통사고.csv', encoding='euc-kr')"
   ]
  },
  {
   "cell_type": "code",
   "execution_count": 4,
   "id": "1be7f1c8",
   "metadata": {},
   "outputs": [
    {
     "data": {
      "text/html": [
       "<div>\n",
       "<style scoped>\n",
       "    .dataframe tbody tr th:only-of-type {\n",
       "        vertical-align: middle;\n",
       "    }\n",
       "\n",
       "    .dataframe tbody tr th {\n",
       "        vertical-align: top;\n",
       "    }\n",
       "\n",
       "    .dataframe thead th {\n",
       "        text-align: right;\n",
       "    }\n",
       "</style>\n",
       "<table border=\"1\" class=\"dataframe\">\n",
       "  <thead>\n",
       "    <tr style=\"text-align: right;\">\n",
       "      <th></th>\n",
       "      <th>-------------------------------------------------------------------------------------------------------------------------------------------------------------------------------------------------------------</th>\n",
       "    </tr>\n",
       "  </thead>\n",
       "  <tbody>\n",
       "    <tr>\n",
       "      <th>0</th>\n",
       "      <td>마명              산지   성별 생년월일   나이 등급 조 조교사   마...</td>\n",
       "    </tr>\n",
       "    <tr>\n",
       "      <th>1</th>\n",
       "      <td>----------------------------------------------...</td>\n",
       "    </tr>\n",
       "    <tr>\n",
       "      <th>2</th>\n",
       "      <td>가기만고당        한      거  2019/05/04  3   국6  48 ...</td>\n",
       "    </tr>\n",
       "  </tbody>\n",
       "</table>\n",
       "</div>"
      ],
      "text/plain": [
       "  -------------------------------------------------------------------------------------------------------------------------------------------------------------------------------------------------------------\n",
       "0  마명              산지   성별 생년월일   나이 등급 조 조교사   마...                                                                                                                                                           \n",
       "1  ----------------------------------------------...                                                                                                                                                           \n",
       "2  가기만고당        한      거  2019/05/04  3   국6  48 ...                                                                                                                                                           "
      ]
     },
     "execution_count": 4,
     "metadata": {},
     "output_type": "execute_result"
    }
   ],
   "source": [
    "url = \"https://race.kra.co.kr/dbdata/fileDownLoad.do?fn=internet/seoul/horse/20220501sdb1.txt&meet=1\"\n",
    "\n",
    "df = pd.read_csv(url, encoding='euc-kr',nrows=3, sep='\\t')\n",
    "df"
   ]
  },
  {
   "cell_type": "code",
   "execution_count": null,
   "id": "3398fcf0",
   "metadata": {},
   "outputs": [],
   "source": []
  }
 ],
 "metadata": {
  "kernelspec": {
   "display_name": "Python 3",
   "language": "python",
   "name": "python3"
  },
  "language_info": {
   "codemirror_mode": {
    "name": "ipython",
    "version": 3
   },
   "file_extension": ".py",
   "mimetype": "text/x-python",
   "name": "python",
   "nbconvert_exporter": "python",
   "pygments_lexer": "ipython3",
   "version": "3.13.2"
  }
 },
 "nbformat": 4,
 "nbformat_minor": 5
}
